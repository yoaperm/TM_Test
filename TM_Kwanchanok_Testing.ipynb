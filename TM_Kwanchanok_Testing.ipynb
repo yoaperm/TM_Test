{
 "cells": [
  {
   "cell_type": "code",
   "execution_count": 2,
   "metadata": {},
   "outputs": [],
   "source": [
    "#Part 1: Algorithmic Thinking\n",
    "def is_prime(n):\n",
    "    if n <= 1:\n",
    "        return False\n",
    "    if n == 2:\n",
    "        return True\n",
    "    if n % 2 == 0:\n",
    "        return False\n",
    "    for i in range(3, int(n ** 0.5) + 1, 2):\n",
    "        if n % i == 0:\n",
    "            return False\n",
    "    return True\n",
    "\n",
    "max_primes = 0\n",
    "product_ab = 0\n",
    "\n",
    "for a in range(-999, 1000):\n",
    "    for b in range(-1000, 1001):\n",
    "        n = 0\n",
    "        while is_prime(n * n + a * n + b):\n",
    "            n += 1\n",
    "        if n > max_primes:\n",
    "            max_primes = n\n",
    "            product_ab = a * b\n",
    "\n",
    "print(\"Product of coefficients a and b:\", product_ab)"
   ]
  },
  {
   "cell_type": "code",
   "execution_count": 3,
   "metadata": {},
   "outputs": [],
   "source": [
    "#Part 2: Soft(ware) skills\n",
    "import pandas as pd\n",
    "from dateutil import parser\n",
    "import re\n",
    "\n",
    "# Load the CSV data\n",
    "df = pd.read_csv(r'C:\\Users\\Kwanchanok.Hensawang\\Downloads\\dailycheckins.csv')\n",
    "print(df.count())\n",
    "# Clean the data by handling date formats and missing values\n",
    "# Define a dictionary to map month names to their numerical representations\n",
    "month_dict = {\n",
    "    'января': '01', 'февраля': '02', 'марта': '03', 'апреля': '04',\n",
    "    'мая': '05', 'июня': '06', 'июля': '07', 'августа': '08',\n",
    "    'сентября': '09', 'октября': '10', 'ноября': '11', 'декабря': '12'\n",
    "}\n",
    "\n",
    "# Define a function to convert various timestamp formats to the desired format\n",
    "def convert_timestamp(timestamp):\n",
    "    try:\n",
    "        # Replace month names with numerical representations\n",
    "        for month_name, month_number in month_dict.items():\n",
    "            timestamp = timestamp.replace(month_name, month_number)\n",
    "\n",
    "        parsed_timestamp = parser.parse(timestamp)\n",
    "        return parsed_timestamp.strftime(\"%Y-%m-%d %H:%M:%S\")\n",
    "    except ValueError:\n",
    "        return None\n",
    "\n",
    "# Apply the function to the 'timestamp' column\n",
    "df['timestamp'] = df['timestamp'].apply(convert_timestamp)\n",
    "\n",
    "# Print the first few rows of the modified DataFrame\n",
    "print(df.head())\n",
    "\n",
    "# Drop rows with missing or invalid user\n",
    "df = df.dropna(subset=['user'])\n",
    "print(df.count())\n",
    "# print(df.head(10))\n",
    "# Save the cleaned data to a new CSV file if desired\n",
    "df.to_csv(r'C:\\Users\\Kwanchanok.Hensawang\\Downloads\\cleaned_dailycheckins.csv', index=False)\n"
   ]
  },
  {
   "cell_type": "code",
   "execution_count": 5,
   "metadata": {},
   "outputs": [],
   "source": [
    "#flow chart diagram\n",
    "Load_csv >> clean_data >> checking_cleaning_data >> export_to_required_database"
   ]
  },
  {
   "cell_type": "code",
   "execution_count": null,
   "metadata": {},
   "outputs": [],
   "source": []
  }
 ],
 "metadata": {
  "kernelspec": {
   "display_name": "Python 3",
   "language": "python",
   "name": "python3"
  },
  "language_info": {
   "codemirror_mode": {
    "name": "ipython",
    "version": 3
   },
   "file_extension": ".py",
   "mimetype": "text/x-python",
   "name": "python",
   "nbconvert_exporter": "python",
   "pygments_lexer": "ipython3",
   "version": "3.11.0"
  },
  "orig_nbformat": 4
 },
 "nbformat": 4,
 "nbformat_minor": 2
}
